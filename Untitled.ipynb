{
 "cells": [
  {
   "cell_type": "code",
   "execution_count": 1,
   "id": "7b3c6ae1",
   "metadata": {},
   "outputs": [],
   "source": [
    "from a_plot import get_table\n",
    "import matplotlib.pyplot as plt\n",
    "import numpy as np"
   ]
  },
  {
   "cell_type": "code",
   "execution_count": 2,
   "id": "6e69b72f",
   "metadata": {},
   "outputs": [],
   "source": [
    "data = get_table()"
   ]
  },
  {
   "cell_type": "code",
   "execution_count": 3,
   "id": "b94aa923",
   "metadata": {
    "scrolled": true
   },
   "outputs": [
    {
     "data": {
      "text/html": [
       "<i>Table length=20</i>\n",
       "<table id=\"table140672197721344\" class=\"table-striped table-bordered table-condensed\">\n",
       "<thead><tr><th>A</th><th>Z</th><th>M-A</th><th>M</th><th>Symbol</th><th>i</th><th>AEl</th><th>s</th><th>ME</th><th>uME</th><th>Exc</th><th>dE</th><th>Orig</th><th>Isom.Unc</th><th>Isom.Inv</th><th>T</th><th>unit T</th><th>dT</th><th>Jpi</th><th>Ensdf</th><th>Discovery</th><th>BR</th></tr></thead>\n",
       "<thead><tr><th>int64</th><th>int64</th><th>float64</th><th>float64</th><th>str2</th><th>int64</th><th>str5</th><th>str1</th><th>str12</th><th>str8</th><th>str9</th><th>str8</th><th>str2</th><th>str1</th><th>str1</th><th>str7</th><th>str2</th><th>str7</th><th>str13</th><th>int64</th><th>int64</th><th>str76</th></tr></thead>\n",
       "<tr><td>76</td><td>26</td><td>-10590.0</td><td>70782961.78392</td><td>Fe</td><td>0</td><td>76Fe</td><td>--</td><td>-10590#</td><td>600#</td><td>--</td><td>--</td><td>--</td><td>--</td><td>--</td><td>3#</td><td>ms</td><td>&gt;410ns</td><td>0+</td><td>--</td><td>2017</td><td>B- ?</td></tr>\n",
       "<tr><td>76</td><td>27</td><td>-25660.0</td><td>70767891.78392</td><td>Co</td><td>0</td><td>76Co</td><td>--</td><td>-25660#</td><td>500#</td><td>--</td><td>--</td><td>--</td><td>*</td><td>--</td><td>23</td><td>ms</td><td>6</td><td>(8-)</td><td>14</td><td>2010</td><td>B-=100;B-n ?;B-2n ?</td></tr>\n",
       "<tr><td>76</td><td>27</td><td>-25560.0</td><td>70767991.78392</td><td>Co</td><td>1</td><td>76Co</td><td>m</td><td>-25560#</td><td>510#</td><td>100#</td><td>100#</td><td>--</td><td>*</td><td>--</td><td>16</td><td>ms</td><td>4</td><td>(1-)</td><td>--</td><td>2015</td><td>B-=100</td></tr>\n",
       "<tr><td>76</td><td>27</td><td>-24920.0</td><td>70768631.78392</td><td>Co</td><td>2</td><td>76Co</td><td>n</td><td>-24920#</td><td>510#</td><td>740#</td><td>100#</td><td>--</td><td>--</td><td>--</td><td>2.99</td><td>us</td><td>0.27</td><td>(3+)</td><td>--</td><td>2015</td><td>IT=100</td></tr>\n",
       "<tr><td>76</td><td>28</td><td>-42190.0</td><td>70751361.78392</td><td>Ni</td><td>0</td><td>76Ni</td><td>--</td><td>-42190#</td><td>300#</td><td>--</td><td>--</td><td>--</td><td>--</td><td>--</td><td>234.6</td><td>ms</td><td>2.7</td><td>0+</td><td>7</td><td>1995</td><td>B-=100;B-n=14.0 36</td></tr>\n",
       "<tr><td>76</td><td>28</td><td>-39770.0</td><td>70753781.78392</td><td>Ni</td><td>1</td><td>76Ni</td><td>m</td><td>-39770#</td><td>300#</td><td>2418.0</td><td>0.5</td><td>--</td><td>--</td><td>--</td><td>547.8</td><td>ns</td><td>3.3</td><td>(8+)</td><td>7</td><td>2005</td><td>IT=100</td></tr>\n",
       "<tr><td>76</td><td>29</td><td>-50981.6</td><td>70742570.18392001</td><td>Cu</td><td>0</td><td>76Cu</td><td>--</td><td>-50981.6</td><td>0.9</td><td>--</td><td>--</td><td>--</td><td>--</td><td>--</td><td>637.7</td><td>ms</td><td>5.5</td><td>3-*</td><td>95</td><td>1987</td><td>B-=100;B-n=7.2 5</td></tr>\n",
       "<tr><td>76</td><td>30</td><td>-62303.0</td><td>70731248.78392</td><td>Zn</td><td>0</td><td>76Zn</td><td>--</td><td>-62303.0</td><td>1.5</td><td>--</td><td>--</td><td>--</td><td>--</td><td>--</td><td>5.7</td><td>s</td><td>0.3</td><td>0+</td><td>95</td><td>1974</td><td>B-=100</td></tr>\n",
       "<tr><td>76</td><td>31</td><td>-66296.6</td><td>70727255.18392001</td><td>Ga</td><td>0</td><td>76Ga</td><td>--</td><td>-66296.6</td><td>2.0</td><td>--</td><td>--</td><td>--</td><td>--</td><td>--</td><td>30.6</td><td>s</td><td>0.6</td><td>2-*</td><td>95</td><td>1961</td><td>B-=100</td></tr>\n",
       "<tr><td>76</td><td>32</td><td>-73212.898</td><td>70720338.88592</td><td>Ge</td><td>0</td><td>76Ge</td><td>--</td><td>-73212.898</td><td>0.018</td><td>--</td><td>--</td><td>--</td><td>--</td><td>--</td><td>1.88</td><td>Zy</td><td>0.08</td><td>0+</td><td>95</td><td>1933</td><td>IS=7.75 12;2B-=100</td></tr>\n",
       "<tr><td>76</td><td>33</td><td>-72291.4</td><td>70721260.38392</td><td>As</td><td>0</td><td>76As</td><td>--</td><td>-72291.4</td><td>0.9</td><td>--</td><td>--</td><td>--</td><td>--</td><td>--</td><td>1.0933</td><td>d</td><td>0.0038</td><td>2-*</td><td>95</td><td>1934</td><td>B-=100</td></tr>\n",
       "<tr><td>76</td><td>33</td><td>-72247.0</td><td>70721304.78392</td><td>As</td><td>1</td><td>76As</td><td>m</td><td>-72247.0</td><td>0.9</td><td>44.425</td><td>0.001</td><td>--</td><td>--</td><td>--</td><td>1.84</td><td>us</td><td>0.06</td><td>(1)+</td><td>95</td><td>1966</td><td>IT=100</td></tr>\n",
       "<tr><td>76</td><td>34</td><td>-75251.959</td><td>70718299.82492</td><td>Se</td><td>0</td><td>76Se</td><td>--</td><td>-75251.959</td><td>0.016</td><td>--</td><td>--</td><td>--</td><td>--</td><td>--</td><td>stbl</td><td>--</td><td>--</td><td>0+</td><td>95</td><td>1922</td><td>IS=9.23 7</td></tr>\n",
       "<tr><td>76</td><td>35</td><td>-70289.0</td><td>70723262.78392</td><td>Br</td><td>0</td><td>76Br</td><td>--</td><td>-70289</td><td>9</td><td>--</td><td>--</td><td>--</td><td>--</td><td>--</td><td>16.2</td><td>h</td><td>0.2</td><td>1-*</td><td>95</td><td>1952</td><td>B+=100</td></tr>\n",
       "<tr><td>76</td><td>35</td><td>-70186.0</td><td>70723365.78392</td><td>Br</td><td>1</td><td>76Br</td><td>m</td><td>-70186</td><td>9</td><td>102.58</td><td>0.03</td><td>--</td><td>--</td><td>--</td><td>1.31</td><td>s</td><td>0.02</td><td>(4)+</td><td>95</td><td>1979</td><td>IT~100;B+&lt;0.6</td></tr>\n",
       "<tr><td>76</td><td>36</td><td>-69014.0</td><td>70724537.78392</td><td>Kr</td><td>0</td><td>76Kr</td><td>--</td><td>-69014</td><td>4</td><td>--</td><td>--</td><td>--</td><td>--</td><td>--</td><td>14.8</td><td>h</td><td>0.1</td><td>0+</td><td>95</td><td>1954</td><td>B+=100</td></tr>\n",
       "<tr><td>76</td><td>37</td><td>-60479.1</td><td>70733072.68392001</td><td>Rb</td><td>0</td><td>76Rb</td><td>--</td><td>-60479.1</td><td>0.9</td><td>--</td><td>--</td><td>--</td><td>--</td><td>--</td><td>36.5</td><td>s</td><td>0.6</td><td>1-*</td><td>95</td><td>1969</td><td>B+=100;B+A=3.8e-7 10</td></tr>\n",
       "<tr><td>76</td><td>37</td><td>-60162.2</td><td>70733389.58392</td><td>Rb</td><td>1</td><td>76Rb</td><td>m</td><td>-60162.2</td><td>0.9</td><td>316.93</td><td>0.08</td><td>--</td><td>--</td><td>--</td><td>3.050</td><td>us</td><td>0.007</td><td>(4+)</td><td>95</td><td>1986</td><td>IT=100</td></tr>\n",
       "<tr><td>76</td><td>38</td><td>-54250.0</td><td>70739301.78392</td><td>Sr</td><td>0</td><td>76Sr</td><td>--</td><td>-54250</td><td>30</td><td>--</td><td>--</td><td>--</td><td>--</td><td>--</td><td>7.89</td><td>s</td><td>0.07</td><td>0+</td><td>11</td><td>1990</td><td>B+=100;B+p=3.4e-3 8</td></tr>\n",
       "<tr><td>76</td><td>39</td><td>-38250.0</td><td>70755301.78392</td><td>Y</td><td>0</td><td>76Y</td><td>--</td><td>-38250#</td><td>300#</td><td>--</td><td>--</td><td>--</td><td>--</td><td>--</td><td>28</td><td>ms</td><td>9</td><td>1-#</td><td>7</td><td>2001</td><td>B+ ?;p ?;B+p ?</td></tr>\n",
       "</table>"
      ],
      "text/plain": [
       "<Table length=20>\n",
       "  A     Z      M-A     ... Ensdf Discovery          BR         \n",
       "int64 int64  float64   ... int64   int64          str76        \n",
       "----- ----- ---------- ... ----- --------- --------------------\n",
       "   76    26   -10590.0 ...    --      2017                 B- ?\n",
       "   76    27   -25660.0 ...    14      2010  B-=100;B-n ?;B-2n ?\n",
       "   76    27   -25560.0 ...    --      2015               B-=100\n",
       "   76    27   -24920.0 ...    --      2015               IT=100\n",
       "   76    28   -42190.0 ...     7      1995   B-=100;B-n=14.0 36\n",
       "   76    28   -39770.0 ...     7      2005               IT=100\n",
       "   76    29   -50981.6 ...    95      1987     B-=100;B-n=7.2 5\n",
       "   76    30   -62303.0 ...    95      1974               B-=100\n",
       "   76    31   -66296.6 ...    95      1961               B-=100\n",
       "   76    32 -73212.898 ...    95      1933   IS=7.75 12;2B-=100\n",
       "   76    33   -72291.4 ...    95      1934               B-=100\n",
       "   76    33   -72247.0 ...    95      1966               IT=100\n",
       "   76    34 -75251.959 ...    95      1922            IS=9.23 7\n",
       "   76    35   -70289.0 ...    95      1952               B+=100\n",
       "   76    35   -70186.0 ...    95      1979        IT~100;B+<0.6\n",
       "   76    36   -69014.0 ...    95      1954               B+=100\n",
       "   76    37   -60479.1 ...    95      1969 B+=100;B+A=3.8e-7 10\n",
       "   76    37   -60162.2 ...    95      1986               IT=100\n",
       "   76    38   -54250.0 ...    11      1990  B+=100;B+p=3.4e-3 8\n",
       "   76    39   -38250.0 ...     7      2001       B+ ?;p ?;B+p ?"
      ]
     },
     "execution_count": 3,
     "metadata": {},
     "output_type": "execute_result"
    }
   ],
   "source": [
    "data[data['A'] == 76]"
   ]
  },
  {
   "cell_type": "code",
   "execution_count": 101,
   "id": "a9c3e030",
   "metadata": {},
   "outputs": [],
   "source": [
    "els = data[data['i']==0]\n",
    "all_beta_mask = np.zeros(len(els), dtype=np.bool8)\n",
    "dms = []\n",
    "m_e = 510.999\n",
    "for idx, el in enumerate(els):\n",
    "    A = els[els['A'] == el['A']]\n",
    "    d = A[A['Z']==el['Z']+1]\n",
    "    if len(d) == 0:\n",
    "        continue\n",
    "    assert len(d) == 1\n",
    "    if d['M']+m_e < el['M']:\n",
    "        continue\n",
    "    dd = A[A['Z']==el['Z']+2]\n",
    "    \n",
    "    if len(dd) == 0:\n",
    "        continue\n",
    "    assert len(dd) == 1\n",
    "    if dd['M']+2*m_e < el['M']:\n",
    "        all_beta_mask[idx] = True\n",
    "        dms += [float(dd['M']-el['M'])]\n"
   ]
  },
  {
   "cell_type": "code",
   "execution_count": 102,
   "id": "53e7a9db",
   "metadata": {},
   "outputs": [
    {
     "data": {
      "text/plain": [
       "array([-1937.8471    , -4268.082     , -3060.2       , -2892.90000001,\n",
       "       -4440.41      , -2039.061     , -2997.895     , -1257.42399999,\n",
       "       -1144.75      , -3356.03      , -3034.40000001, -1299.3       ,\n",
       "       -3584.5       , -2017.09999999, -4253.86      , -2813.49000001,\n",
       "       -2292.59999999, -4049.2       , -2527.51400001, -2457.91      ,\n",
       "       -1417.19999999, -3316.09999999, -1928.        , -3371.30000001,\n",
       "       -1250.80000001, -1730.30000001, -2339.59999999, -1085.07800001,\n",
       "       -2196.09999999, -2469.30000001, -2324.90000001, -1050.30000001,\n",
       "       -1224.69999999, -1529.30000001, -3139.29999998, -2052.        ,\n",
       "       -2169.29999998, -2468.        , -1144.59999999, -2590.19999999,\n",
       "       -1354.19999999, -2778.09999999, -1819.69999999, -1555.        ])"
      ]
     },
     "execution_count": 102,
     "metadata": {},
     "output_type": "execute_result"
    }
   ],
   "source": [
    "dms = np.array(dms)\n",
    "dms"
   ]
  },
  {
   "cell_type": "code",
   "execution_count": 103,
   "id": "98d0c168",
   "metadata": {
    "scrolled": false
   },
   "outputs": [
    {
     "name": "stdout",
     "output_type": "stream",
     "text": [
      "44\n",
      "72Zn -4440.409999996424\n",
      "48Ca -4268.082000002265\n",
      "112Pd -4253.859999999404\n",
      "126Sn -4049.2000000029802\n",
      "106Ru -3584.5\n",
      "150Nd -3371.300000011921\n",
      "96Zr -3356.030000001192\n",
      "144Ce -3316.0999999940395\n",
      "218Po -3139.2999999821186\n",
      "60Fe -3060.2000000029802\n",
      "100Mo -3034.4000000059605\n",
      "82Se -2997.8949999958277\n",
      "66Ni -2892.9000000059605\n",
      "116Cd -2813.4900000095367\n",
      "246Pu -2778.0999999940395\n",
      "240U -2590.199999988079\n",
      "130Te -2527.5140000134706\n",
      "188W -2469.300000011921\n",
      "234Th -2468.0\n",
      "136Xe -2457.9099999964237\n",
      "166Dy -2339.5999999940395\n",
      "194Os -2324.9000000059605\n",
      "124Sn -2292.5999999940395\n",
      "182Hf -2196.0999999940395\n",
      "228Ra -2169.2999999821186\n",
      "222Rn -2052.0\n",
      "76Ge -2039.0610000044107\n",
      "110Pd -2017.0999999940395\n",
      "32Si -1937.8470999971032\n",
      "148Nd -1928.0\n",
      "250Cm -1819.699999988079\n",
      "160Gd -1730.300000011921\n",
      "256Cf -1555.0\n",
      "216Po -1529.300000011921\n",
      "142Ce -1417.199999988079\n",
      "244Pu -1354.199999988079\n",
      "104Ru -1299.2999999970198\n",
      "86Kr -1257.4239999949932\n",
      "154Sm -1250.800000011921\n",
      "210Pb -1224.699999988079\n",
      "94Zr -1144.75\n",
      "238U -1144.5999999940395\n",
      "176Yb -1085.07800000906\n",
      "198Pt -1050.300000011921\n"
     ]
    }
   ],
   "source": [
    "all_beta = els[all_beta_mask]\n",
    "print(len(all_beta))\n",
    "\n",
    "st = np.argsort(dms)\n",
    "\n",
    "for idx, b in enumerate(all_beta[st]):\n",
    "    print(b['AEl'], dms[st][idx])\n",
    "    \n"
   ]
  },
  {
   "cell_type": "code",
   "execution_count": 112,
   "id": "8833576c",
   "metadata": {},
   "outputs": [
    {
     "data": {
      "text/html": [
       "<i>Table length=9</i>\n",
       "<table id=\"table140458762409488\" class=\"table-striped table-bordered table-condensed\">\n",
       "<thead><tr><th>A</th><th>Z</th><th>M-A</th><th>M</th><th>Symbol</th><th>i</th><th>AEl</th><th>s</th><th>ME</th><th>uME</th><th>Exc</th><th>dE</th><th>Orig</th><th>Isom.Unc</th><th>Isom.Inv</th><th>T</th><th>unit T</th><th>dT</th><th>Jpi</th><th>Ensdf</th><th>Discovery</th><th>BR</th></tr></thead>\n",
       "<thead><tr><th>int64</th><th>int64</th><th>float64</th><th>float64</th><th>str2</th><th>int64</th><th>str5</th><th>str1</th><th>str12</th><th>str8</th><th>str9</th><th>str8</th><th>str2</th><th>str1</th><th>str1</th><th>str7</th><th>str2</th><th>str7</th><th>str13</th><th>int64</th><th>int64</th><th>str76</th></tr></thead>\n",
       "<tr><td>76</td><td>30</td><td>-62303.0</td><td>70731248.78392</td><td>Zn</td><td>0</td><td>76Zn</td><td>--</td><td>-62303.0</td><td>1.5</td><td>--</td><td>--</td><td>--</td><td>--</td><td>--</td><td>5.7</td><td>s</td><td>0.3</td><td>0+</td><td>95</td><td>1974</td><td>B-=100</td></tr>\n",
       "<tr><td>76</td><td>31</td><td>-66296.6</td><td>70727255.18392001</td><td>Ga</td><td>0</td><td>76Ga</td><td>--</td><td>-66296.6</td><td>2.0</td><td>--</td><td>--</td><td>--</td><td>--</td><td>--</td><td>30.6</td><td>s</td><td>0.6</td><td>2-*</td><td>95</td><td>1961</td><td>B-=100</td></tr>\n",
       "<tr><td>76</td><td>32</td><td>-73212.898</td><td>70720338.88592</td><td>Ge</td><td>0</td><td>76Ge</td><td>--</td><td>-73212.898</td><td>0.018</td><td>--</td><td>--</td><td>--</td><td>--</td><td>--</td><td>1.88</td><td>Zy</td><td>0.08</td><td>0+</td><td>95</td><td>1933</td><td>IS=7.75 12;2B-=100</td></tr>\n",
       "<tr><td>76</td><td>33</td><td>-72291.4</td><td>70721260.38392</td><td>As</td><td>0</td><td>76As</td><td>--</td><td>-72291.4</td><td>0.9</td><td>--</td><td>--</td><td>--</td><td>--</td><td>--</td><td>1.0933</td><td>d</td><td>0.0038</td><td>2-*</td><td>95</td><td>1934</td><td>B-=100</td></tr>\n",
       "<tr><td>76</td><td>34</td><td>-75251.959</td><td>70718299.82492</td><td>Se</td><td>0</td><td>76Se</td><td>--</td><td>-75251.959</td><td>0.016</td><td>--</td><td>--</td><td>--</td><td>--</td><td>--</td><td>stbl</td><td>--</td><td>--</td><td>0+</td><td>95</td><td>1922</td><td>IS=9.23 7</td></tr>\n",
       "<tr><td>76</td><td>35</td><td>-70289.0</td><td>70723262.78392</td><td>Br</td><td>0</td><td>76Br</td><td>--</td><td>-70289</td><td>9</td><td>--</td><td>--</td><td>--</td><td>--</td><td>--</td><td>16.2</td><td>h</td><td>0.2</td><td>1-*</td><td>95</td><td>1952</td><td>B+=100</td></tr>\n",
       "<tr><td>76</td><td>36</td><td>-69014.0</td><td>70724537.78392</td><td>Kr</td><td>0</td><td>76Kr</td><td>--</td><td>-69014</td><td>4</td><td>--</td><td>--</td><td>--</td><td>--</td><td>--</td><td>14.8</td><td>h</td><td>0.1</td><td>0+</td><td>95</td><td>1954</td><td>B+=100</td></tr>\n",
       "<tr><td>76</td><td>37</td><td>-60479.1</td><td>70733072.68392001</td><td>Rb</td><td>0</td><td>76Rb</td><td>--</td><td>-60479.1</td><td>0.9</td><td>--</td><td>--</td><td>--</td><td>--</td><td>--</td><td>36.5</td><td>s</td><td>0.6</td><td>1-*</td><td>95</td><td>1969</td><td>B+=100;B+A=3.8e-7 10</td></tr>\n",
       "<tr><td>76</td><td>38</td><td>-54250.0</td><td>70739301.78392</td><td>Sr</td><td>0</td><td>76Sr</td><td>--</td><td>-54250</td><td>30</td><td>--</td><td>--</td><td>--</td><td>--</td><td>--</td><td>7.89</td><td>s</td><td>0.07</td><td>0+</td><td>11</td><td>1990</td><td>B+=100;B+p=3.4e-3 8</td></tr>\n",
       "</table>"
      ],
      "text/plain": [
       "<Table length=9>\n",
       "  A     Z      M-A     ... Ensdf Discovery          BR         \n",
       "int64 int64  float64   ... int64   int64          str76        \n",
       "----- ----- ---------- ... ----- --------- --------------------\n",
       "   76    30   -62303.0 ...    95      1974               B-=100\n",
       "   76    31   -66296.6 ...    95      1961               B-=100\n",
       "   76    32 -73212.898 ...    95      1933   IS=7.75 12;2B-=100\n",
       "   76    33   -72291.4 ...    95      1934               B-=100\n",
       "   76    34 -75251.959 ...    95      1922            IS=9.23 7\n",
       "   76    35   -70289.0 ...    95      1952               B+=100\n",
       "   76    36   -69014.0 ...    95      1954               B+=100\n",
       "   76    37   -60479.1 ...    95      1969 B+=100;B+A=3.8e-7 10\n",
       "   76    38   -54250.0 ...    11      1990  B+=100;B+p=3.4e-3 8"
      ]
     },
     "execution_count": 112,
     "metadata": {},
     "output_type": "execute_result"
    }
   ],
   "source": [
    "A76 = data[np.all(np.array([data['A'] == 76, data['i']==0, data['M'] < 70.74e6]), axis=0)]\n",
    "A76"
   ]
  },
  {
   "cell_type": "code",
   "execution_count": 113,
   "id": "b31c8986",
   "metadata": {
    "scrolled": true
   },
   "outputs": [
    {
     "data": {
      "image/png": "[encoded data removed]",
      "text/plain": [
       "<Figure size 432x288 with 1 Axes>"
      ]
     },
     "metadata": {
      "needs_background": "light"
     },
     "output_type": "display_data"
    }
   ],
   "source": [
    "plt.plot(A76['Z'], A76['M']*1e-6, 'x')\n",
    "for el in A76:\n",
    "    plt.text(el['Z'], el['M']*1e-6, el['Symbol'])\n",
    "    \n",
    "B_E = 1293-2*511\n",
    "\n",
    "mask_sorted = np.argsort(A76['Z'])\n",
    "for par, daug in zip(A76[mask_sorted[:-1]], A76[mask_sorted[1:]]):\n",
    "    dm = daug['M']-par['M']\n",
    "    \n",
    "    if dm < B_E:\n",
    "        plt.text(par['Z']+0.6, (par['M']+0.5*dm)*1e-6, r\"$\\beta^-$\")\n",
    "        plt.arrow(par['Z'], par['M']*1e-6, 1, dm*1e-6)"
   ]
  },
  {
   "cell_type": "code",
   "execution_count": 3,
   "id": "678a3c7c",
   "metadata": {},
   "outputs": [],
   "source": [
    "def bw(A, Z, a_v=15760, a_o=1781, a_c=711, a_s=23702, a_p=34000, kp=-3/4, mn=939565.42052, mp=938272.0881):\n",
    "    if A % 2 != 0: #  ug oder gu\n",
    "        vz = 0\n",
    "    elif Z % 2 == 0: # gg\n",
    "        vz = 1\n",
    "    else:\n",
    "        vz = -1\n",
    "        \n",
    "    return 0.31e6+Z*mp+(A-Z)*mn-a_v*A+a_o*A**(2/3)+a_c*Z*(Z-1)/A**(1/3)+a_s*(A-2*Z)**2/A-vz*a_p*A**(kp)\n"
   ]
  },
  {
   "cell_type": "code",
   "execution_count": 4,
   "id": "ef4f22cf",
   "metadata": {},
   "outputs": [
    {
     "data": {
      "text/plain": [
       "221375460.6966378"
      ]
     },
     "execution_count": 4,
     "metadata": {},
     "output_type": "execute_result"
    }
   ],
   "source": [
    "bw(238, 92)"
   ]
  },
  {
   "cell_type": "code",
   "execution_count": 144,
   "id": "27496b81",
   "metadata": {},
   "outputs": [
    {
     "data": {
      "image/png": "[encoded data removed]",
      "text/plain": [
       "<Figure size 432x288 with 1 Axes>"
      ]
     },
     "metadata": {
      "needs_background": "light"
     },
     "output_type": "display_data"
    }
   ],
   "source": [
    "plt.plot(A76['Z'], A76['M']*1e-6, 'x')\n",
    "for el in A76:\n",
    "    plt.text(el['Z'], el['M']*1e-6, el['Symbol'])\n",
    "    plt.plot(el['Z'], bw(el['A'], el['Z'])*1e-6, 'x')\n",
    "    \n",
    "B_E = 1293-2*511\n",
    "\n",
    "mask_sorted = np.argsort(A76['Z'])\n",
    "for par, daug in zip(A76[mask_sorted[:-1]], A76[mask_sorted[1:]]):\n",
    "    dm = daug['M']-par['M']\n",
    "    \n",
    "    if dm < B_E:\n",
    "        plt.text(par['Z']+0.6, (par['M']+0.5*dm)*1e-6, r\"$\\beta^-$\")\n",
    "        plt.arrow(par['Z'], par['M']*1e-6, 1, dm*1e-6)"
   ]
  },
  {
   "cell_type": "code",
   "execution_count": null,
   "id": "4cadb586",
   "metadata": {},
   "outputs": [],
   "source": []
  }
 ],
 "metadata": {
  "kernelspec": {
   "display_name": "Python 3",
   "language": "python",
   "name": "python3"
  },
  "language_info": {
   "codemirror_mode": {
    "name": "ipython",
    "version": 3
   },
   "file_extension": ".py",
   "mimetype": "text/x-python",
   "name": "python",
   "nbconvert_exporter": "python",
   "pygments_lexer": "ipython3",
   "version": "3.9.1"
  }
 },
 "nbformat": 4,
 "nbformat_minor": 5
}
